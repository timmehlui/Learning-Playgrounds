{
 "cells": [
  {
   "cell_type": "markdown",
   "id": "1ade2da1",
   "metadata": {},
   "source": [
    "A guided, playground notebook towards gaining some Bayesian intuitions. We are often trained under frequentist statistics philosophy, but does that always work best for us?\n",
    "Originally presented as \"You're Probably Wrong\" during \"Brown Bags\" seminar at Stanford, 2025/04/10"
   ]
  },
  {
   "cell_type": "markdown",
   "id": "47c38efd",
   "metadata": {},
   "source": [
    "Welcome to Bayes Casino! The newest hotspot on the Las Vegas Strip! \n",
    "You’re here with one goal: to win enough money to score a ticket to Adele’s final show of the year. The casino is buzzing with brand new games, but here’s the twist. Some of them haven’t been tested thoroughly by management, so it’s still unclear which ones might give players a statistical edge!\n",
    "Can you figure out which games offer the best odds and walk away with VIP access to one of the year’s most exclusive concerts?"
   ]
  },
  {
   "cell_type": "code",
   "execution_count": 1,
   "id": "542eea3b",
   "metadata": {},
   "outputs": [],
   "source": [
    "# Imports\n",
    "import random\n",
    "import matplotlib.pyplot as plt\n",
    "import seaborn as sns\n",
    "import numpy as np"
   ]
  },
  {
   "cell_type": "markdown",
   "id": "18b5d11a",
   "metadata": {},
   "source": [
    "Game 1: Coin flip game.\n",
    "A fair coin will be flipped. If you win, the multiplier is x3, meaning, get the correct call and get 3x your money back. Make the wrong call, you lose the amount you bet.\n",
    "\n",
    "Should you play the game?"
   ]
  },
  {
   "cell_type": "code",
   "execution_count": 3,
   "id": "6ba1db11",
   "metadata": {},
   "outputs": [
    {
     "data": {
      "image/png": "[encoded data removed]",
      "text/plain": [
       "<Figure size 432x288 with 1 Axes>"
      ]
     },
     "metadata": {
      "needs_background": "light"
     },
     "output_type": "display_data"
    },
    {
     "name": "stdout",
     "output_type": "stream",
     "text": [
      "Mean Net Profit per Game: $0.50\n",
      "Mean Net Profit: $49.61\n",
      "Median Net Profit: $50.00\n",
      "1st Quartile (25th percentile): $41.00\n",
      "3rd Quartile (75th percentile): $59.00\n",
      "10th Percentile: $29.00\n",
      "90th Percentile: $68.00\n",
      "Minimum Net Profit: $2.00\n",
      "Maximum Net Profit: $95.00\n"
     ]
    }
   ],
   "source": [
    "def simulate_betting_game(probability_of_win, amount_bet, number_of_games, win_multiplier, number_of_simulations):\n",
    "    net_profits = []\n",
    "\n",
    "    for _ in range(number_of_simulations):\n",
    "        total_winnings = 0\n",
    "        total_bet = amount_bet * number_of_games\n",
    "\n",
    "        for _ in range(number_of_games):\n",
    "            rand = random.random()  # Random number between 0 and 1\n",
    "            if rand < probability_of_win:\n",
    "                total_winnings += amount_bet * win_multiplier\n",
    "\n",
    "        net_profit = total_winnings - total_bet\n",
    "        net_profits.append(net_profit)\n",
    "\n",
    "    # Plot the distribution of net profits\n",
    "    sns.histplot(net_profits, bins=20, kde=True, stat=\"density\", edgecolor='black')\n",
    "    plt.title('Distribution of Net Profits')\n",
    "    plt.xlabel('Net Profit')\n",
    "    plt.ylabel('Frequency')\n",
    "    plt.show()\n",
    "    \n",
    "    #print(net_profits)\n",
    "\n",
    "    # Calculate and print statistics\n",
    "    mean_profit = np.mean(net_profits)\n",
    "    median_profit = np.median(net_profits)\n",
    "    q1 = np.percentile(net_profits, 25)\n",
    "    q3 = np.percentile(net_profits, 75)\n",
    "    p10 = np.percentile(net_profits, 10)\n",
    "    p90 = np.percentile(net_profits, 90)\n",
    "    min_profit = np.min(net_profits)\n",
    "    max_profit = np.max(net_profits)\n",
    "\n",
    "    print(f\"Mean Net Profit per Game: ${mean_profit/number_of_games:.2f}\")\n",
    "    print(f\"Mean Net Profit: ${mean_profit:.2f}\")\n",
    "    print(f\"Median Net Profit: ${median_profit:.2f}\")\n",
    "    print(f\"1st Quartile (25th percentile): ${q1:.2f}\")\n",
    "    print(f\"3rd Quartile (75th percentile): ${q3:.2f}\")\n",
    "    print(f\"10th Percentile: ${p10:.2f}\")\n",
    "    print(f\"90th Percentile: ${p90:.2f}\")\n",
    "    print(f\"Minimum Net Profit: ${min_profit:.2f}\")\n",
    "    print(f\"Maximum Net Profit: ${max_profit:.2f}\")\n",
    "\n",
    "# Example usage:\n",
    "simulate_betting_game(\n",
    "    probability_of_win= 1/2,\n",
    "    amount_bet=1,\n",
    "    number_of_games=100,\n",
    "    win_multiplier=3,\n",
    "    number_of_simulations=1000\n",
    ")\n"
   ]
  },
  {
   "cell_type": "markdown",
   "id": "bdacdf6b",
   "metadata": {},
   "source": [
    "Original game parameters: \n",
    "    probability_of_win= 1/2,\n",
    "    amount_bet=1,\n",
    "    number_of_games=100,\n",
    "    win_multiplier=3,\n",
    "    number_of_simulations=1000\n",
    "    \n",
    "Answer: Yes, you should play the game! \n",
    "Explanation: \n",
    "The probability of guessing the coin flip correctly is 1/2, meaning as long as the win_multiplier is greater than the reciprocal, 1/(1/2) = 2, then the game is favorable to play. This is seen from playing repeated simulations of the game. In the simulation, we decide to ply the \"flip the coin\" game 100 times. We see the distribution of the results of 1000 simulations. We can see that the average profit from playing the game 100 times is $50, meaning choosing to play the game is a good choice."
   ]
  },
  {
   "cell_type": "markdown",
   "id": "fae46cb2",
   "metadata": {},
   "source": [
    "Additional exercises:\n",
    "What if the win_multiplier is 1.5? Should you play the game?\n",
    "- Make your guess, and rerun the simulation changing the win_multiplier. Assess if your average profit is positive or negative.\n",
    "\n",
    "What if the win_multiplier is 2? Should you play the game?\n",
    "\n",
    "Game 2: The D20 game\n",
    "You walk around the casino and run into a table inspired by Dungeons and Dragons. You find that the teller is rolling a interestingly looking dice. A D20, a 20-sided dice commonly used in the game Dungeons and Dragons. The table shows how the win_multiplier for correctly guessing the roll is x15. Should you play the game?\n",
    "- Adapt the game parameters by making probability_of_win = 1/20, and win_multiplier = 15\n",
    "\n",
    "Game 3: The D8 game\n",
    "You find another table, this time rolling a D8 (an 8-sided dice). The multiplier is x15. Should you play the game?\n",
    "- Adapt the game parameters by making probability_of_win = 1/8, and win_multiplier = 15\n",
    "\n",
    "From these simulations, you should hopefully understand how simulating these games work, and had your fun at exploring your luck. But here's where we start exploring some Bayesian intuitions."
   ]
  },
  {
   "cell_type": "markdown",
   "id": "8e10f2ed",
   "metadata": {},
   "source": [
    "Game 4: Carol's Game\n",
    "You walk around the casino and you see that everyone is grouped around a weird game involving a pool table. You see that two women, Anna and Becca, are standing next to the dealer. As you show up, a friendly viewer explains the rules to you.\n",
    "\n",
    "The teller has rolled a yellow, pool-table 1-ball on the pool-table. It has bounced around, and landed in a completely random location. Then Carol rolls the blue, pool-table 2-ball randomly as well. If the 2-ball lands on the left of the 1-ball, then Anna wins. If the 2-ball lands on the right of the 1-ball, then Becca wins. You don't know where the 1-ball is positioned on the pool table, but you do know that Anna has won 5 times and Becca has won 3 times.\n",
    "\n",
    "Carol, an odds maker, proposes a game to you. She says, if Becca gets to 6 wins before Anna gets to 6 wins, I will pay you out with a win-multiplier of x15. Do you take the bet?\n",
    "\n",
    "Friend! This is your key moment to use all the information you have to make your best bet. Will this game give you the funds you need to see Adele in her last night? Or is it a rip off! This is the last segment of the exercise, make sure to do the calculations you desire before moving on and learning about Bayesian statistics."
   ]
  },
  {
   "cell_type": "code",
   "execution_count": 9,
   "id": "0fef5485-7575-49b1-b839-b1fe40f472a7",
   "metadata": {},
   "outputs": [
    {
     "data": {
      "image/png": "[encoded data removed]",
      "text/plain": [
       "<Figure size 432x288 with 1 Axes>"
      ]
     },
     "metadata": {
      "needs_background": "light"
     },
     "output_type": "display_data"
    },
    {
     "name": "stdout",
     "output_type": "stream",
     "text": [
      "Mean Net Profit per Game: $37.64\n",
      "Mean Net Profit: $3764.00\n",
      "Median Net Profit: $3500.00\n",
      "1st Quartile (25th percentile): $500.00\n",
      "3rd Quartile (75th percentile): $6500.00\n",
      "10th Percentile: $-1000.00\n",
      "90th Percentile: $9500.00\n",
      "Minimum Net Profit: $-7000.00\n",
      "Maximum Net Profit: $20000.00\n"
     ]
    }
   ],
   "source": [
    "def simulate_carols_game(amount_bet, number_of_games, win_multiplier, number_of_simulations):\n",
    "    net_profits = []\n",
    "\n",
    "    for _ in range(number_of_simulations):\n",
    "        total_winnings = 0\n",
    "        total_bet = amount_bet * number_of_games\n",
    "        \n",
    "        ### Start Game Simulation\n",
    "        matches_conditions = []\n",
    "        while len(matches_conditions) < number_of_games:\n",
    "            p = random.random()\n",
    "            wins_A = 0\n",
    "            wins_B = 0\n",
    "            game = \"\"\n",
    "\n",
    "            while wins_A < 6 and wins_B < 6:\n",
    "                roll = random.random()\n",
    "                if roll < p:\n",
    "                    wins_A += 1\n",
    "                    game += 'A'\n",
    "                else:\n",
    "                    wins_B += 1\n",
    "                    game += 'B'\n",
    "\n",
    "            if len(game) >= 8:\n",
    "                first_eight = game[:8]\n",
    "                if first_eight.count('A') == 5 and first_eight.count('B') == 3:\n",
    "                    matches_conditions.append(game)\n",
    "            #print(game)\n",
    "            #print(matches_conditions)\n",
    "        ### End Game Simulation\n",
    "        \n",
    "        for games in matches_conditions:\n",
    "            if games.count('B') == 6:\n",
    "                total_winnings += amount_bet * win_multiplier\n",
    "            \n",
    "        net_profit = total_winnings - total_bet\n",
    "        net_profits.append(net_profit)\n",
    "    \n",
    "    # Plot the distribution of net profits\n",
    "    sns.histplot(net_profits, bins=30, kde=True, stat=\"density\", edgecolor='black')\n",
    "    plt.title('Distribution of Net Profits')\n",
    "    plt.xlabel('Net Profit')\n",
    "    plt.ylabel('Frequency')\n",
    "    plt.show()\n",
    "    \n",
    "    #print(net_profits)\n",
    "\n",
    "    # Calculate and print statistics\n",
    "    mean_profit = np.mean(net_profits)\n",
    "    median_profit = np.median(net_profits)\n",
    "    q1 = np.percentile(net_profits, 25)\n",
    "    q3 = np.percentile(net_profits, 75)\n",
    "    p10 = np.percentile(net_profits, 10)\n",
    "    p90 = np.percentile(net_profits, 90)\n",
    "    min_profit = np.min(net_profits)\n",
    "    max_profit = np.max(net_profits)\n",
    "\n",
    "    print(f\"Mean Net Profit per Game: ${mean_profit/number_of_games:.2f}\")\n",
    "    print(f\"Mean Net Profit: ${mean_profit:.2f}\")\n",
    "    print(f\"Median Net Profit: ${median_profit:.2f}\")\n",
    "    print(f\"1st Quartile (25th percentile): ${q1:.2f}\")\n",
    "    print(f\"3rd Quartile (75th percentile): ${q3:.2f}\")\n",
    "    print(f\"10th Percentile: ${p10:.2f}\")\n",
    "    print(f\"90th Percentile: ${p90:.2f}\")\n",
    "    print(f\"Minimum Net Profit: ${min_profit:.2f}\")\n",
    "    print(f\"Maximum Net Profit: ${max_profit:.2f}\")\n",
    "    \n",
    "    \n",
    "# Example usage:\n",
    "simulate_carols_game(\n",
    "    amount_bet=100,\n",
    "    number_of_games=100,\n",
    "    win_multiplier=15,\n",
    "    number_of_simulations=1000\n",
    ")\n"
   ]
  },
  {
   "cell_type": "markdown",
   "id": "6eaf2826",
   "metadata": {},
   "source": [
    "Original game parameters:\n",
    "    amount_bet=100,\n",
    "    number_of_games=100,\n",
    "    win_multiplier=15,\n",
    "    number_of_simulations=1000\n",
    "    \n",
    "Explore the game at your own pace! But here's the summary of conclusions.\n",
    "\n",
    "Carol's game is to your advantage at these odds!\n",
    "\n",
    "The key intuition to gain is that frequentist statistical thinking can lead to the wrong conclusion! In frequentist thinking, one might try to get the best estimate of where the yellow 1-ball currently is. Let's call this location along the pool-table p, and this corresponds to the probability that Alice wins (since the 2-ball is to the left of the 1-ball, which corresponds to length p over the length of the whole table.)\n",
    "A frequentist might try to calculate p-hat, the maximum likelihood location of the 1-ball. In this case that would be 5/8, since Anna has won 5 times in 8 games. Hence, we need to calculate the probability of Becca winning 3 times in a row with no Anna win, which using p-hat is 3/8 * 3/8 * 3/8 = 1/19\n",
    "Using our prior heuristics, the game needs to have a bigger win_multiplier than the reciprocal, say x20, in order to be profitable. So a frequentist would choose to not play the game.\n",
    "\n",
    "However, when we run the simulation, we notice how the game is profitable. The mean profit across 1000 simulations is around $3,700 (enough for Adele VIP). Instead, using Bayesian statistics, we can calculate that the real odds of Becca winning 3 times in a row before Anna are 1/11, meaning anything with a win_multiplier greater than x11 would be profitable.\n",
    "\n",
    "Additional exercises:\n",
    "Run the simulation with a win_multiplier = 20. Note how you drastically earn money.\n",
    "\n",
    "Run the simulation with a win_multiplier = 11. Note how the mean profit is around 0. This is the breakeven point, as predicted by the Bayesian statistics approach.\n",
    "\n",
    "Looking for further information? Check out this talk by \"Jake VanderPlas, SciPy2014\" showing off this classical example of Bayesian statistics, or find other people describing the calculation to obtain 1/11. \n",
    "https://www.youtube.com/watch?v=KhAUfqhLakw\n",
    "Carol's game is a popular example to gain these intuitions, so there are many resources out there. But hopefully this playground notebook helped you explore some of these intuitions showing the importance of Bayesian statistics!"
   ]
  }
 ],
 "metadata": {
  "kernelspec": {
   "display_name": "Python 3 (ipykernel)",
   "language": "python",
   "name": "python3"
  },
  "language_info": {
   "codemirror_mode": {
    "name": "ipython",
    "version": 3
   },
   "file_extension": ".py",
   "mimetype": "text/x-python",
   "name": "python",
   "nbconvert_exporter": "python",
   "pygments_lexer": "ipython3",
   "version": "3.9.7"
  }
 },
 "nbformat": 4,
 "nbformat_minor": 5
}
